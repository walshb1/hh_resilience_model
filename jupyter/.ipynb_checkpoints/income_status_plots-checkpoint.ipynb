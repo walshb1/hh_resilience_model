{
 "cells": [
  {
   "cell_type": "code",
   "execution_count": 1,
   "metadata": {
    "collapsed": false
   },
   "outputs": [],
   "source": [
    "import numpy as np\n",
    "import pandas as pd \n",
    "import matplotlib as mpl\n",
    "import matplotlib.pyplot as plt\n",
    "import seaborn as sns\n",
    "import math\n",
    "import scipy"
   ]
  },
  {
   "cell_type": "code",
   "execution_count": 2,
   "metadata": {
    "collapsed": true
   },
   "outputs": [],
   "source": [
    "# formatting & aesthetics\n",
    "font = {'family':'sans serif', 'size':10}\n",
    "plt.rc('font', **font)\n",
    "mpl.rcParams['xtick.labelsize'] = 10\n",
    "mpl.rcParams['ytick.labelsize'] = 10\n",
    "mpl.rcParams['legend.facecolor'] = 'white'\n",
    "sns.set_style(\"white\")\n",
    "\n",
    "sns_pal = sns.color_palette('Set1', n_colors=8, desat=.4)\n",
    "greys_pal = sns.color_palette('Greys', n_colors=9)"
   ]
  },
  {
   "cell_type": "code",
   "execution_count": 3,
   "metadata": {
    "collapsed": true
   },
   "outputs": [],
   "source": [
    "def get_expectation_values(df):\n",
    "    \n",
    "    #ix_levels = np.array(df.index.names)\n",
    "    #ix_levels = np.array(ix_levels[((ix_levels!='affected_cat')&(ix_levels!='helped_cat'))])\n",
    "    ix_levels = ['region','hazard','rp','hhid','quintile']\n",
    "    #print(ix_levels)\n",
    "    \n",
    "    df_ev = pd.DataFrame(index=(df.sum(level=ix_levels)).index)\n",
    "    \n",
    "    for _col in df:\n",
    "        if _col == 'pcwgt': df[['pcwgt']].sum(level=ix_levels)\n",
    "        df_ev[_col] = df[['pcwgt',_col]].prod(axis=1).sum(level=ix_levels)/df['pcwgt'].sum(level=ix_levels)\n",
    "        \n",
    "    return df_ev\n",
    "        "
   ]
  },
  {
   "cell_type": "code",
   "execution_count": null,
   "metadata": {
    "collapsed": true
   },
   "outputs": [],
   "source": []
  },
  {
   "cell_type": "code",
   "execution_count": null,
   "metadata": {
    "collapsed": true
   },
   "outputs": [],
   "source": []
  },
  {
   "cell_type": "code",
   "execution_count": 25,
   "metadata": {
    "collapsed": false
   },
   "outputs": [],
   "source": [
    "def load_hh_df(myCountry,pds_scenario='no'):\n",
    "    \n",
    "    in_file = '../../output_country/{}/poverty_duration_{}.csv'.format(myCountry,pds_scenario)\n",
    "    master_ix = ['region','hazard','rp','hhid','affected_cat','helped_cat']\n",
    "\n",
    "    df = pd.read_csv(in_file).set_index(master_ix).dropna(how='any')\n",
    "    df = get_quintile_info(myCountry,df,master_ix+['quintile'])\n",
    "    df = load_income_classification(myCountry,df,master_ix+['quintile'])\n",
    "    return df.sort_index()\n",
    "\n",
    "def get_quintile_info(myCountry,df,master_ix):\n",
    "    quints = pd.read_csv('../../intermediate/{}/cat_info.csv'.format(myCountry),usecols=['hhid','quintile']).set_index('hhid')\n",
    "    df = pd.merge(quints.reset_index(),df.reset_index(),on='hhid').set_index(master_ix)\n",
    "    return df\n",
    "\n",
    "def slice_on_pop(df,segment='',poverty_type=''):\n",
    "    encode = {'poor':'pov',\n",
    "              'vulnerable':'vul',\n",
    "              'secure':'sec',\n",
    "              'middleclass':'mc'}\n",
    "    \n",
    "    try: code = 't_{}_{}'.format(encode[segment],poverty_type)\n",
    "    except: code = 'no_encoding'\n",
    "        \n",
    "    if segment == 'poor': \n",
    "        pop_slice = (False,True,True,True)\n",
    "        df = df.loc[(df.ispoor==pop_slice[0])\n",
    "                    &((df.isvulnerable==pop_slice[1])|(df.issecure==pop_slice[2])|(df.ismiddleclass==pop_slice[3]))]\n",
    "    elif segment is not None:\n",
    "        if segment == 'vulnerable': pop_slice = (False,True,False,False)\n",
    "        if segment == 'secure': pop_slice = (False,False,True,False)\n",
    "        if segment == 'middleclass': pop_slice = (False,False,False,True)\n",
    "        df = df.loc[(df.ispoor==pop_slice[0])\n",
    "                    &(df.isvulnerable==pop_slice[1])&(df.issecure==pop_slice[2])&(df.ismiddleclass==pop_slice[3])] \n",
    "    else: pass\n",
    "\n",
    "    return df,code\n",
    "\n",
    "def get_population(myCountry,segment):\n",
    "    _cols = ['region','quintile','pcwgt','ispoor','ismiddleclass','issecure','isvulnerable']\n",
    "    tot_pop = pd.read_csv('../../intermediate/{}/cat_info.csv'.format(myCountry),usecols=_cols).set_index(['region','quintile'])\n",
    "    \n",
    "    tot_pop,_ = slice_on_pop(tot_pop,segment,'')\n",
    "    tot_pop = tot_pop[['pcwgt']].sum(level=['region','quintile'])\n",
    "    return tot_pop\n",
    "    \n",
    "def load_income_classification(myCountry,df,master_ix):\n",
    "    is_poor = pd.read_csv('../../intermediate/{}/cat_info.csv'.format(myCountry),usecols=['hhid','ispoor','ismiddleclass','issecure','isvulnerable'])\n",
    "    df = pd.merge(df.reset_index(),is_poor.reset_index(),on='hhid').set_index(master_ix)    \n",
    "    return df\n"
   ]
  },
  {
   "cell_type": "code",
   "execution_count": 26,
   "metadata": {
    "collapsed": true
   },
   "outputs": [],
   "source": [
    "def average_over_rp(df,default_rp='default_rp',protection=None,return_probs=True):        \n",
    "    \"\"\"Aggregation of the outputs over return periods\"\"\"    \n",
    "    if protection is None:\n",
    "        protection=pd.Series(0,index=df.index)        \n",
    "\n",
    "    #just drops rp index if df contains default_rp\n",
    "    if default_rp in df.index.get_level_values('rp'):\n",
    "        print('default_rp detected, dropping rp')\n",
    "        return (df.T/protection).T.reset_index('rp',drop=True)\n",
    "           \n",
    "    df=df.copy().reset_index('rp')\n",
    "\n",
    "    #computes frequency of each return period\n",
    "    return_periods=np.unique(df['rp'].dropna())\n",
    "\n",
    "    proba = pd.Series(np.diff(np.append(1/return_periods,0)[::-1])[::-1],index=return_periods) #removes 0 from the rps \n",
    "\n",
    "    #matches return periods and their frequency\n",
    "    proba_serie=df['rp'].replace(proba).rename('prob')\n",
    "    proba_serie1 = pd.concat([df.rp,proba_serie],axis=1)\n",
    "\n",
    "    #handles cases with multi index and single index (works around pandas limitation)\n",
    "    idxlevels = list(range(df.index.nlevels))\n",
    "\n",
    "    if idxlevels==[0]:\n",
    "        idxlevels =0\n",
    "        \n",
    "    #average weighted by proba\n",
    "    averaged = df.mul(proba_serie,axis=0).sum(level=idxlevels).drop('rp',axis=1) # frequency times each variables in the columns including rp.\n",
    "\n",
    "\n",
    "    if return_probs: return averaged,proba_serie1 #here drop rp.\n",
    "    else: return averaged"
   ]
  },
  {
   "cell_type": "code",
   "execution_count": 27,
   "metadata": {
    "collapsed": false
   },
   "outputs": [],
   "source": [
    "#def main():\n",
    "master_df = load_hh_df('PH')\n",
    "master_df.head(500).to_csv('test.csv')"
   ]
  },
  {
   "cell_type": "code",
   "execution_count": 28,
   "metadata": {
    "collapsed": false
   },
   "outputs": [],
   "source": [
    "def plot_avg_time(df_ev,_haz,segment,fom,yr2mth=True):\n",
    "    \n",
    "    sf = 1.\n",
    "    if yr2mth: sf = 12.  \n",
    "        \n",
    "    _ = slice(None)\n",
    "    \n",
    "    pop_df = get_population('PH',segment).sum(level='quintile').squeeze().to_frame(name='total_population')\n",
    "    # indexed on quintile\n",
    "    \n",
    "    # \n",
    "    if segment != 'poor': df_ev[fom] = (10.019268 - df_ev[fom]).clip(lower=0)\n",
    "    \n",
    "    # plot weighted means\n",
    "    # cycle over rps\n",
    "    for _rp in df_ev.index.get_level_values(2).unique():\n",
    "            \n",
    "        _df = df_ev.loc[(_,_,[_rp],_,_),:]\n",
    "\n",
    "        df_quint = _df[['pcwgt',fom]].prod(axis=1).sum(level='quintile').to_frame(name=fom)\n",
    "        df_quint[fom] = df_quint[fom]/pop_df['total_population']\n",
    "        plt.plot(df_quint.index,sf*df_quint[fom],color=greys_pal[6],lw=1.0,zorder=99)\n",
    "                \n",
    "        for _nreg, _reg in enumerate(df_ev.index.get_level_values(0).unique()):\n",
    "            \n",
    "            _regpop = get_population('PH',segment).reset_index('region')\n",
    "            reg_pop = pd.DataFrame(index=get_population('PH','total').sum(level='quintile').index)\n",
    "            reg_pop['tot_pop'] = _regpop.loc[_regpop.region==_reg].sum(level='quintile')\n",
    "            reg_pop = reg_pop.fillna(-1)\n",
    "            \n",
    "            _dfreg = df_ev.loc[([_reg],_,[_rp],_,_),:]\n",
    "            df_quint['{}_{}'.format(fom,_nreg)] = _dfreg[['pcwgt',fom]].prod(axis=1).sum(level='quintile')\n",
    "            df_quint['{}_{}'.format(fom,_nreg)] = df_quint['{}_{}'.format(fom,_nreg)]/reg_pop['tot_pop']\n",
    "            plt.plot(df_quint.index,sf*df_quint['{}_{}'.format(fom,_nreg)],color=greys_pal[4],alpha=0.25,lw=0.5,zorder=11)\n",
    "            \n",
    "        plt.fill_between(df_quint.index,sf*df_quint.min(axis=1),sf*df_quint.max(axis=1),alpha=0.1,color=greys_pal[3],zorder=10)\n",
    "            \n",
    "        plt.xlabel('Income quintile',labelpad=8,fontsize=10,linespacing=1.75)\n",
    "        plt.ylabel('Time in poverty [{}]'.format('months' if yr2mth else 'years'),labelpad=10,fontsize=10,linespacing=1.75)\n",
    "\n",
    "        plt.gca().tick_params(axis='both', which='major', pad=10,size=4)\n",
    "        plt.xticks([1,2,3,4,5])\n",
    "        plt.gca().set_xticklabels(['Poorest\\nquintile','second','third','fourth','Wealthiest\\nquintile'],ha='center',rotation=0)\n",
    "        \n",
    "        #plt.legend()\n",
    "        sns.despine()\n",
    "        plt.savefig('figures/duration/income_poverty_{}_{}.pdf'.format(_haz,_rp),format='pdf',bbox_inches='tight')\n",
    "        plt.close('all')"
   ]
  },
  {
   "cell_type": "code",
   "execution_count": null,
   "metadata": {
    "collapsed": true
   },
   "outputs": [],
   "source": []
  },
  {
   "cell_type": "code",
   "execution_count": 29,
   "metadata": {
    "collapsed": false
   },
   "outputs": [
    {
     "ename": "UnboundLocalError",
     "evalue": "local variable 'pop_slice' referenced before assignment",
     "output_type": "error",
     "traceback": [
      "\u001b[0;31m---------------------------------------------------------------------------\u001b[0m",
      "\u001b[0;31mUnboundLocalError\u001b[0m                         Traceback (most recent call last)",
      "\u001b[0;32m<ipython-input-29-40226dcc75a9>\u001b[0m in \u001b[0;36m<module>\u001b[0;34m()\u001b[0m\n\u001b[1;32m     16\u001b[0m     \u001b[0mdf_ev\u001b[0m \u001b[0;34m=\u001b[0m \u001b[0mget_expectation_values\u001b[0m\u001b[0;34m(\u001b[0m\u001b[0mdf\u001b[0m\u001b[0;34m)\u001b[0m\u001b[0;34m\u001b[0m\u001b[0m\n\u001b[1;32m     17\u001b[0m \u001b[0;34m\u001b[0m\u001b[0m\n\u001b[0;32m---> 18\u001b[0;31m     \u001b[0mplot_avg_time\u001b[0m\u001b[0;34m(\u001b[0m\u001b[0mdf_ev\u001b[0m\u001b[0;34m,\u001b[0m\u001b[0m_haz\u001b[0m\u001b[0;34m,\u001b[0m\u001b[0;34m'poor'\u001b[0m\u001b[0;34m,\u001b[0m\u001b[0mfom\u001b[0m\u001b[0;34m)\u001b[0m\u001b[0;34m\u001b[0m\u001b[0m\n\u001b[0m\u001b[1;32m     19\u001b[0m \u001b[0;34m\u001b[0m\u001b[0m\n\u001b[1;32m     20\u001b[0m \u001b[0;34m\u001b[0m\u001b[0m\n",
      "\u001b[0;32m<ipython-input-28-a05fce23ba95>\u001b[0m in \u001b[0;36mplot_avg_time\u001b[0;34m(df_ev, _haz, segment, fom, yr2mth)\u001b[0m\n\u001b[1;32m     25\u001b[0m \u001b[0;34m\u001b[0m\u001b[0m\n\u001b[1;32m     26\u001b[0m             \u001b[0m_regpop\u001b[0m \u001b[0;34m=\u001b[0m \u001b[0mget_population\u001b[0m\u001b[0;34m(\u001b[0m\u001b[0;34m'PH'\u001b[0m\u001b[0;34m,\u001b[0m\u001b[0msegment\u001b[0m\u001b[0;34m)\u001b[0m\u001b[0;34m.\u001b[0m\u001b[0mreset_index\u001b[0m\u001b[0;34m(\u001b[0m\u001b[0;34m'region'\u001b[0m\u001b[0;34m)\u001b[0m\u001b[0;34m\u001b[0m\u001b[0m\n\u001b[0;32m---> 27\u001b[0;31m             \u001b[0mreg_pop\u001b[0m \u001b[0;34m=\u001b[0m \u001b[0mpd\u001b[0m\u001b[0;34m.\u001b[0m\u001b[0mDataFrame\u001b[0m\u001b[0;34m(\u001b[0m\u001b[0mindex\u001b[0m\u001b[0;34m=\u001b[0m\u001b[0mget_population\u001b[0m\u001b[0;34m(\u001b[0m\u001b[0;34m'PH'\u001b[0m\u001b[0;34m,\u001b[0m\u001b[0;34m'total'\u001b[0m\u001b[0;34m)\u001b[0m\u001b[0;34m.\u001b[0m\u001b[0msum\u001b[0m\u001b[0;34m(\u001b[0m\u001b[0mlevel\u001b[0m\u001b[0;34m=\u001b[0m\u001b[0;34m'quintile'\u001b[0m\u001b[0;34m)\u001b[0m\u001b[0;34m.\u001b[0m\u001b[0mindex\u001b[0m\u001b[0;34m)\u001b[0m\u001b[0;34m\u001b[0m\u001b[0m\n\u001b[0m\u001b[1;32m     28\u001b[0m             \u001b[0mreg_pop\u001b[0m\u001b[0;34m[\u001b[0m\u001b[0;34m'tot_pop'\u001b[0m\u001b[0;34m]\u001b[0m \u001b[0;34m=\u001b[0m \u001b[0m_regpop\u001b[0m\u001b[0;34m.\u001b[0m\u001b[0mloc\u001b[0m\u001b[0;34m[\u001b[0m\u001b[0m_regpop\u001b[0m\u001b[0;34m.\u001b[0m\u001b[0mregion\u001b[0m\u001b[0;34m==\u001b[0m\u001b[0m_reg\u001b[0m\u001b[0;34m]\u001b[0m\u001b[0;34m.\u001b[0m\u001b[0msum\u001b[0m\u001b[0;34m(\u001b[0m\u001b[0mlevel\u001b[0m\u001b[0;34m=\u001b[0m\u001b[0;34m'quintile'\u001b[0m\u001b[0;34m)\u001b[0m\u001b[0;34m\u001b[0m\u001b[0m\n\u001b[1;32m     29\u001b[0m             \u001b[0mreg_pop\u001b[0m \u001b[0;34m=\u001b[0m \u001b[0mreg_pop\u001b[0m\u001b[0;34m.\u001b[0m\u001b[0mfillna\u001b[0m\u001b[0;34m(\u001b[0m\u001b[0;34m-\u001b[0m\u001b[0;36m1\u001b[0m\u001b[0;34m)\u001b[0m\u001b[0;34m\u001b[0m\u001b[0m\n",
      "\u001b[0;32m<ipython-input-25-b438612f299c>\u001b[0m in \u001b[0;36mget_population\u001b[0;34m(myCountry, segment)\u001b[0m\n\u001b[1;32m     41\u001b[0m     \u001b[0mtot_pop\u001b[0m \u001b[0;34m=\u001b[0m \u001b[0mpd\u001b[0m\u001b[0;34m.\u001b[0m\u001b[0mread_csv\u001b[0m\u001b[0;34m(\u001b[0m\u001b[0;34m'../../intermediate/{}/cat_info.csv'\u001b[0m\u001b[0;34m.\u001b[0m\u001b[0mformat\u001b[0m\u001b[0;34m(\u001b[0m\u001b[0mmyCountry\u001b[0m\u001b[0;34m)\u001b[0m\u001b[0;34m,\u001b[0m\u001b[0musecols\u001b[0m\u001b[0;34m=\u001b[0m\u001b[0m_cols\u001b[0m\u001b[0;34m)\u001b[0m\u001b[0;34m.\u001b[0m\u001b[0mset_index\u001b[0m\u001b[0;34m(\u001b[0m\u001b[0;34m[\u001b[0m\u001b[0;34m'region'\u001b[0m\u001b[0;34m,\u001b[0m\u001b[0;34m'quintile'\u001b[0m\u001b[0;34m]\u001b[0m\u001b[0;34m)\u001b[0m\u001b[0;34m\u001b[0m\u001b[0m\n\u001b[1;32m     42\u001b[0m \u001b[0;34m\u001b[0m\u001b[0m\n\u001b[0;32m---> 43\u001b[0;31m     \u001b[0mtot_pop\u001b[0m\u001b[0;34m,\u001b[0m\u001b[0m_\u001b[0m \u001b[0;34m=\u001b[0m \u001b[0mslice_on_pop\u001b[0m\u001b[0;34m(\u001b[0m\u001b[0mtot_pop\u001b[0m\u001b[0;34m,\u001b[0m\u001b[0msegment\u001b[0m\u001b[0;34m,\u001b[0m\u001b[0;34m''\u001b[0m\u001b[0;34m)\u001b[0m\u001b[0;34m\u001b[0m\u001b[0m\n\u001b[0m\u001b[1;32m     44\u001b[0m     \u001b[0mtot_pop\u001b[0m \u001b[0;34m=\u001b[0m \u001b[0mtot_pop\u001b[0m\u001b[0;34m[\u001b[0m\u001b[0;34m[\u001b[0m\u001b[0;34m'pcwgt'\u001b[0m\u001b[0;34m]\u001b[0m\u001b[0;34m]\u001b[0m\u001b[0;34m.\u001b[0m\u001b[0msum\u001b[0m\u001b[0;34m(\u001b[0m\u001b[0mlevel\u001b[0m\u001b[0;34m=\u001b[0m\u001b[0;34m[\u001b[0m\u001b[0;34m'region'\u001b[0m\u001b[0;34m,\u001b[0m\u001b[0;34m'quintile'\u001b[0m\u001b[0;34m]\u001b[0m\u001b[0;34m)\u001b[0m\u001b[0;34m\u001b[0m\u001b[0m\n\u001b[1;32m     45\u001b[0m     \u001b[0;32mreturn\u001b[0m \u001b[0mtot_pop\u001b[0m\u001b[0;34m\u001b[0m\u001b[0m\n",
      "\u001b[0;32m<ipython-input-25-b438612f299c>\u001b[0m in \u001b[0;36mslice_on_pop\u001b[0;34m(df, segment, poverty_type)\u001b[0m\n\u001b[1;32m     32\u001b[0m         \u001b[0;32mif\u001b[0m \u001b[0msegment\u001b[0m \u001b[0;34m==\u001b[0m \u001b[0;34m'middleclass'\u001b[0m\u001b[0;34m:\u001b[0m \u001b[0mpop_slice\u001b[0m \u001b[0;34m=\u001b[0m \u001b[0;34m(\u001b[0m\u001b[0;32mFalse\u001b[0m\u001b[0;34m,\u001b[0m\u001b[0;32mFalse\u001b[0m\u001b[0;34m,\u001b[0m\u001b[0;32mFalse\u001b[0m\u001b[0;34m,\u001b[0m\u001b[0;32mTrue\u001b[0m\u001b[0;34m)\u001b[0m\u001b[0;34m\u001b[0m\u001b[0m\n\u001b[1;32m     33\u001b[0m         df = df.loc[(df.ispoor==pop_slice[0])\n\u001b[0;32m---> 34\u001b[0;31m                     &(df.isvulnerable==pop_slice[1])&(df.issecure==pop_slice[2])&(df.ismiddleclass==pop_slice[3])] \n\u001b[0m\u001b[1;32m     35\u001b[0m     \u001b[0;32melse\u001b[0m\u001b[0;34m:\u001b[0m \u001b[0;32mpass\u001b[0m\u001b[0;34m\u001b[0m\u001b[0m\n\u001b[1;32m     36\u001b[0m \u001b[0;34m\u001b[0m\u001b[0m\n",
      "\u001b[0;31mUnboundLocalError\u001b[0m: local variable 'pop_slice' referenced before assignment"
     ]
    }
   ],
   "source": [
    "keep_cols = ['pcwgt',\n",
    "             'ispoor','ismiddleclass','isvulnerable','issecure',\n",
    "             't_pov_cons','t_pov_inc',\n",
    "             't_vul_cons','t_vul_inc',\n",
    "             't_sec_cons','t_sec_inc', \n",
    "             't_mc_cons','t_mc_inc']\n",
    "\n",
    "#loop over hazards:\n",
    "for _haz in master_df.index.get_level_values(1).unique():\n",
    "    if _haz != 'EQ': continue\n",
    "        \n",
    "    _ = slice(None)\n",
    "    df = master_df.loc[(_,[_haz],_,_,_,_,_), keep_cols].sort_index()\n",
    "    df,fom = slice_on_pop(df,'poor','cons')\n",
    "    \n",
    "    df_ev = get_expectation_values(df)\n",
    "    \n",
    "    plot_avg_time(df_ev,_haz,'poor',fom)\n",
    "    \n",
    "    \n",
    "    #df_aal = average_over_rp(df,return_probs=False)"
   ]
  },
  {
   "cell_type": "code",
   "execution_count": null,
   "metadata": {
    "collapsed": true
   },
   "outputs": [],
   "source": []
  },
  {
   "cell_type": "code",
   "execution_count": null,
   "metadata": {
    "collapsed": true
   },
   "outputs": [],
   "source": []
  },
  {
   "cell_type": "code",
   "execution_count": 37,
   "metadata": {
    "collapsed": false
   },
   "outputs": [
    {
     "name": "stdout",
     "output_type": "stream",
     "text": [
      "EQ\n"
     ]
    },
    {
     "ename": "NameError",
     "evalue": "name 'pop_slice' is not defined",
     "output_type": "error",
     "traceback": [
      "\u001b[0;31m---------------------------------------------------------------------------\u001b[0m",
      "\u001b[0;31mNameError\u001b[0m                                 Traceback (most recent call last)",
      "\u001b[0;32m<ipython-input-37-65e960c57f52>\u001b[0m in \u001b[0;36m<module>\u001b[0;34m()\u001b[0m\n\u001b[1;32m     18\u001b[0m     \u001b[0mdf_ev\u001b[0m \u001b[0;34m=\u001b[0m \u001b[0mget_expectation_values\u001b[0m\u001b[0;34m(\u001b[0m\u001b[0mdf\u001b[0m\u001b[0;34m)\u001b[0m\u001b[0;34m\u001b[0m\u001b[0m\n\u001b[1;32m     19\u001b[0m \u001b[0;34m\u001b[0m\u001b[0m\n\u001b[0;32m---> 20\u001b[0;31m     \u001b[0mpop_mc\u001b[0m \u001b[0;34m=\u001b[0m \u001b[0mget_population\u001b[0m\u001b[0;34m(\u001b[0m\u001b[0;34m'PH'\u001b[0m\u001b[0;34m,\u001b[0m\u001b[0mpop_slice\u001b[0m\u001b[0;34m)\u001b[0m\u001b[0;34m\u001b[0m\u001b[0m\n\u001b[0m\u001b[1;32m     21\u001b[0m     \u001b[0mpop_mc\u001b[0m \u001b[0;34m=\u001b[0m \u001b[0mpop_df\u001b[0m\u001b[0;34m.\u001b[0m\u001b[0msum\u001b[0m\u001b[0;34m(\u001b[0m\u001b[0mlevel\u001b[0m\u001b[0;34m=\u001b[0m\u001b[0;34m'region'\u001b[0m\u001b[0;34m)\u001b[0m\u001b[0;34m.\u001b[0m\u001b[0msqueeze\u001b[0m\u001b[0;34m(\u001b[0m\u001b[0;34m)\u001b[0m\u001b[0;34m.\u001b[0m\u001b[0mto_frame\u001b[0m\u001b[0;34m(\u001b[0m\u001b[0mname\u001b[0m\u001b[0;34m=\u001b[0m\u001b[0;34m'pop_mc'\u001b[0m\u001b[0;34m)\u001b[0m\u001b[0;34m\u001b[0m\u001b[0m\n\u001b[1;32m     22\u001b[0m \u001b[0;34m\u001b[0m\u001b[0m\n",
      "\u001b[0;31mNameError\u001b[0m: name 'pop_slice' is not defined"
     ]
    }
   ],
   "source": [
    "# plot middle class stuff\n",
    "fom = 't_sec_inc'\n",
    "\n",
    "for _haz in master_df.index.get_level_values(1).unique():\n",
    "    #if _haz != 'EQ': continue\n",
    "    print(_haz)\n",
    "    \n",
    "    sf = 12.\n",
    "    #if yr2mth: sf = 12.  \n",
    "    \n",
    "    _ = slice(None)\n",
    "    df = master_df.loc[(_,[_haz],_,_,_,_,_), keep_cols].sort_index()\n",
    "    \n",
    "    df[fom] = (10.019268-df[fom]).clip(lower=0)    \n",
    "    df = df.loc[(df.issecure==True)]#&(df[fom]>0.)]\n",
    "    #df.to_csv('peek.csv')\n",
    "    \n",
    "    df_ev = get_expectation_values(df)\n",
    "    \n",
    "    pop_mc = get_population('PH','secure')\n",
    "    pop_mc = pop_df.sum(level='region').squeeze().to_frame(name='pop_mc')\n",
    "    \n",
    "    pop_mc_aff = df[['pcwgt']].sum(level=['region','rp'])\n",
    "    assert(pop_mc_aff.shape[0]>0)\n",
    "        \n",
    "    # first plot weighted mean\n",
    "    df_region = (1/365)*df[['pcwgt',fom]].prod(axis=1).sum(level=['region','rp']).to_frame(name=fom)\n",
    "    #df_region[fom] /= pop_mc_aff['pcwgt']\n",
    "    \n",
    "    df_region_aal = average_over_rp(df_region,return_probs=False)\n",
    "    pop_mc_aff = average_over_rp(pop_mc_aff,return_probs=False)\n",
    "    #df_region_aal[fom] = df_region_aal[fom]/pop_df['total_population']\n",
    "        \n",
    "\n",
    "    df_region_aal = df_region_aal.sort_values(fom,ascending=True).reset_index()\n",
    "    plt.bar(df_region_aal.index,sf*df_region_aal[fom],color=greys_pal[6],lw=1.0,zorder=99,width=0.8)\n",
    "    \n",
    "    # label barplot    \n",
    "    rects = plt.gca().patches\n",
    "    for nrect, rect in enumerate(rects):\n",
    "        try:\n",
    "            #print(nrect)\n",
    "            # total population of middle class +\n",
    "            #plt.annotate('{}'.format(int(1E-3*pop_mc_aff.iloc[nrect].squeeze())),\n",
    "            #             xy=(rect.get_x()+rect.get_width()/2,rect.get_height()),va='bottom',ha='center')\n",
    "            \n",
    "            # fraction of person-years\n",
    "            plt.annotate('{}'.format(round(float(1E3*rect.get_height()/(10*pop_mc_aff.iloc[nrect]).squeeze()),2)),\n",
    "                         xy=(rect.get_x()+rect.get_width()/2,rect.get_height()),va='bottom',ha='center')\n",
    "        except: pass\n",
    "    \n",
    "    #plt.ylabel(r'Person-years outside middle class [per mil]')\n",
    "    \n",
    "    plt.xticks(df_region_aal.index+0.4)\n",
    "    plt.gca().set_xticklabels(df_region_aal.region,ha='center',rotation=90)\n",
    "    \n",
    "    sns.despine()\n",
    "    plt.savefig('figures/middleclass_{}.pdf'.format(_haz),format='pdf',bbox_inches='tight')\n",
    "    plt.close('all')\n",
    "    \n",
    "    #df_aal = average_over_rp(df,return_probs=False)"
   ]
  },
  {
   "cell_type": "code",
   "execution_count": null,
   "metadata": {
    "collapsed": true
   },
   "outputs": [],
   "source": []
  },
  {
   "cell_type": "code",
   "execution_count": null,
   "metadata": {
    "collapsed": true
   },
   "outputs": [],
   "source": []
  }
 ],
 "metadata": {
  "anaconda-cloud": {},
  "kernelspec": {
   "display_name": "Python [conda root]",
   "language": "python",
   "name": "conda-root-py"
  },
  "language_info": {
   "codemirror_mode": {
    "name": "ipython",
    "version": 3
   },
   "file_extension": ".py",
   "mimetype": "text/x-python",
   "name": "python",
   "nbconvert_exporter": "python",
   "pygments_lexer": "ipython3",
   "version": "3.5.2"
  }
 },
 "nbformat": 4,
 "nbformat_minor": 1
}
